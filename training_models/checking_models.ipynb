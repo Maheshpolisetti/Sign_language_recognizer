{
 "cells": [
  {
   "cell_type": "code",
   "execution_count": 1,
   "id": "6c546e5a",
   "metadata": {},
   "outputs": [],
   "source": [
    "import pandas as pd\n",
    "import numpy as np\n",
    "from sklearn.model_selection import train_test_split\n",
    "from sklearn.preprocessing import LabelEncoder\n",
    "from sklearn.ensemble import RandomForestClassifier\n",
    "from sklearn.metrics import classification_report, accuracy_score"
   ]
  },
  {
   "cell_type": "code",
   "execution_count": null,
   "id": "d69009ca",
   "metadata": {},
   "outputs": [],
   "source": [
    "df=pd.read_csv(r\"sign_landmarks.csv\")\n",
    "\n",
    "df = df[df[\"label\"] != \"NOTHING\"].reset_index(drop=True)\n",
    "\n",
    "df_limited = df.groupby(\"label\").head(4000).reset_index(drop=True)\n"
   ]
  },
  {
   "cell_type": "code",
   "execution_count": 3,
   "id": "c73adce3",
   "metadata": {},
   "outputs": [],
   "source": [
    "custom_label_order = list(\"ABCDEFGHIJKLMNOPQRSTUVWXYZ\") + [\"SPACE\", \"DEL\"]\n",
    "\n",
    "le = LabelEncoder()\n",
    "le.fit(custom_label_order)\n",
    "# [a-z]- 0 to 25 and space-26,del-27\n",
    "\n",
    "X = df_limited.drop(\"label\", axis=1)\n",
    "y = df_limited[\"label\"]\n",
    "\n",
    "y_encoded = le.transform(y)\n",
    "\n",
    "# Train-test split\n",
    "X_train, X_test, y_train, y_test = train_test_split(\n",
    "    X, y_encoded, test_size=0.2, random_state=42, stratify=y_encoded\n",
    ")"
   ]
  },
  {
   "cell_type": "code",
   "execution_count": 4,
   "id": "eba8f083",
   "metadata": {},
   "outputs": [],
   "source": [
    "from tensorflow.keras.utils import to_categorical # type: ignore\n",
    "\n",
    "# One-hot encode the labels\n",
    "y_train_onehot = to_categorical(y_train, num_classes=len(custom_label_order))\n",
    "y_test_onehot = to_categorical(y_test, num_classes=len(custom_label_order))\n"
   ]
  },
  {
   "cell_type": "code",
   "execution_count": 5,
   "id": "14846bfd",
   "metadata": {},
   "outputs": [
    {
     "name": "stdout",
     "output_type": "stream",
     "text": [
      "28\n"
     ]
    },
    {
     "data": {
      "text/plain": [
       "(109644, 63)"
      ]
     },
     "execution_count": 5,
     "metadata": {},
     "output_type": "execute_result"
    }
   ],
   "source": [
    "print(len(y_train_onehot[0]))\n",
    "np.shape(X)"
   ]
  },
  {
   "cell_type": "code",
   "execution_count": 7,
   "id": "3f6314c9",
   "metadata": {},
   "outputs": [],
   "source": [
    "from tensorflow.keras.models import Sequential # type: ignore\n",
    "from tensorflow.keras.layers import Dense, Dropout # type: ignore\n",
    "from tensorflow.keras.optimizers import Adam # type: ignore"
   ]
  },
  {
   "cell_type": "code",
   "execution_count": null,
   "id": "3f6d4084",
   "metadata": {},
   "outputs": [
    {
     "name": "stderr",
     "output_type": "stream",
     "text": [
      "c:\\Users\\psvma\\AppData\\Local\\Programs\\Python\\Python312\\Lib\\site-packages\\keras\\src\\layers\\core\\dense.py:87: UserWarning: Do not pass an `input_shape`/`input_dim` argument to a layer. When using Sequential models, prefer using an `Input(shape)` object as the first layer in the model instead.\n",
      "  super().__init__(activity_regularizer=activity_regularizer, **kwargs)\n"
     ]
    },
    {
     "name": "stdout",
     "output_type": "stream",
     "text": [
      "Epoch 1/30\n",
      "\u001b[1m1371/1371\u001b[0m \u001b[32m━━━━━━━━━━━━━━━━━━━━\u001b[0m\u001b[37m\u001b[0m \u001b[1m7s\u001b[0m 4ms/step - accuracy: 0.4190 - loss: 1.8887 - val_accuracy: 0.8506 - val_loss: 0.4423\n",
      "Epoch 2/30\n",
      "\u001b[1m1371/1371\u001b[0m \u001b[32m━━━━━━━━━━━━━━━━━━━━\u001b[0m\u001b[37m\u001b[0m \u001b[1m5s\u001b[0m 3ms/step - accuracy: 0.8381 - loss: 0.4912 - val_accuracy: 0.9299 - val_loss: 0.2512\n",
      "Epoch 3/30\n",
      "\u001b[1m1371/1371\u001b[0m \u001b[32m━━━━━━━━━━━━━━━━━━━━\u001b[0m\u001b[37m\u001b[0m \u001b[1m5s\u001b[0m 3ms/step - accuracy: 0.8789 - loss: 0.3767 - val_accuracy: 0.9233 - val_loss: 0.2375\n",
      "Epoch 4/30\n",
      "\u001b[1m1371/1371\u001b[0m \u001b[32m━━━━━━━━━━━━━━━━━━━━\u001b[0m\u001b[37m\u001b[0m \u001b[1m5s\u001b[0m 3ms/step - accuracy: 0.8939 - loss: 0.3295 - val_accuracy: 0.9398 - val_loss: 0.1885\n",
      "Epoch 5/30\n",
      "\u001b[1m1371/1371\u001b[0m \u001b[32m━━━━━━━━━━━━━━━━━━━━\u001b[0m\u001b[37m\u001b[0m \u001b[1m5s\u001b[0m 3ms/step - accuracy: 0.9049 - loss: 0.3013 - val_accuracy: 0.9421 - val_loss: 0.1972\n",
      "Epoch 6/30\n",
      "\u001b[1m1371/1371\u001b[0m \u001b[32m━━━━━━━━━━━━━━━━━━━━\u001b[0m\u001b[37m\u001b[0m \u001b[1m5s\u001b[0m 3ms/step - accuracy: 0.9158 - loss: 0.2691 - val_accuracy: 0.9524 - val_loss: 0.1617\n",
      "Epoch 7/30\n",
      "\u001b[1m1371/1371\u001b[0m \u001b[32m━━━━━━━━━━━━━━━━━━━━\u001b[0m\u001b[37m\u001b[0m \u001b[1m5s\u001b[0m 3ms/step - accuracy: 0.9207 - loss: 0.2544 - val_accuracy: 0.9602 - val_loss: 0.1332\n",
      "Epoch 8/30\n",
      "\u001b[1m1371/1371\u001b[0m \u001b[32m━━━━━━━━━━━━━━━━━━━━\u001b[0m\u001b[37m\u001b[0m \u001b[1m5s\u001b[0m 4ms/step - accuracy: 0.9243 - loss: 0.2444 - val_accuracy: 0.9630 - val_loss: 0.1292\n",
      "Epoch 9/30\n",
      "\u001b[1m1371/1371\u001b[0m \u001b[32m━━━━━━━━━━━━━━━━━━━━\u001b[0m\u001b[37m\u001b[0m \u001b[1m5s\u001b[0m 3ms/step - accuracy: 0.9280 - loss: 0.2313 - val_accuracy: 0.9660 - val_loss: 0.1212\n",
      "Epoch 10/30\n",
      "\u001b[1m1371/1371\u001b[0m \u001b[32m━━━━━━━━━━━━━━━━━━━━\u001b[0m\u001b[37m\u001b[0m \u001b[1m5s\u001b[0m 4ms/step - accuracy: 0.9313 - loss: 0.2230 - val_accuracy: 0.9636 - val_loss: 0.1247\n",
      "Epoch 11/30\n",
      "\u001b[1m1371/1371\u001b[0m \u001b[32m━━━━━━━━━━━━━━━━━━━━\u001b[0m\u001b[37m\u001b[0m \u001b[1m5s\u001b[0m 3ms/step - accuracy: 0.9321 - loss: 0.2178 - val_accuracy: 0.9643 - val_loss: 0.1206\n",
      "Epoch 12/30\n",
      "\u001b[1m1371/1371\u001b[0m \u001b[32m━━━━━━━━━━━━━━━━━━━━\u001b[0m\u001b[37m\u001b[0m \u001b[1m5s\u001b[0m 4ms/step - accuracy: 0.9359 - loss: 0.2063 - val_accuracy: 0.9663 - val_loss: 0.1118\n",
      "Epoch 13/30\n",
      "\u001b[1m1371/1371\u001b[0m \u001b[32m━━━━━━━━━━━━━━━━━━━━\u001b[0m\u001b[37m\u001b[0m \u001b[1m5s\u001b[0m 3ms/step - accuracy: 0.9378 - loss: 0.2027 - val_accuracy: 0.9658 - val_loss: 0.1161\n",
      "Epoch 14/30\n",
      "\u001b[1m1371/1371\u001b[0m \u001b[32m━━━━━━━━━━━━━━━━━━━━\u001b[0m\u001b[37m\u001b[0m \u001b[1m5s\u001b[0m 4ms/step - accuracy: 0.9392 - loss: 0.1973 - val_accuracy: 0.9651 - val_loss: 0.1157\n",
      "Epoch 15/30\n",
      "\u001b[1m1371/1371\u001b[0m \u001b[32m━━━━━━━━━━━━━━━━━━━━\u001b[0m\u001b[37m\u001b[0m \u001b[1m5s\u001b[0m 4ms/step - accuracy: 0.9400 - loss: 0.1956 - val_accuracy: 0.9703 - val_loss: 0.1015\n",
      "Epoch 16/30\n",
      "\u001b[1m1371/1371\u001b[0m \u001b[32m━━━━━━━━━━━━━━━━━━━━\u001b[0m\u001b[37m\u001b[0m \u001b[1m5s\u001b[0m 4ms/step - accuracy: 0.9427 - loss: 0.1844 - val_accuracy: 0.9719 - val_loss: 0.0959\n",
      "Epoch 17/30\n",
      "\u001b[1m1371/1371\u001b[0m \u001b[32m━━━━━━━━━━━━━━━━━━━━\u001b[0m\u001b[37m\u001b[0m \u001b[1m5s\u001b[0m 3ms/step - accuracy: 0.9446 - loss: 0.1838 - val_accuracy: 0.9715 - val_loss: 0.1017\n",
      "Epoch 18/30\n",
      "\u001b[1m1371/1371\u001b[0m \u001b[32m━━━━━━━━━━━━━━━━━━━━\u001b[0m\u001b[37m\u001b[0m \u001b[1m5s\u001b[0m 3ms/step - accuracy: 0.9432 - loss: 0.1825 - val_accuracy: 0.9708 - val_loss: 0.1037\n",
      "Epoch 19/30\n",
      "\u001b[1m1371/1371\u001b[0m \u001b[32m━━━━━━━━━━━━━━━━━━━━\u001b[0m\u001b[37m\u001b[0m \u001b[1m5s\u001b[0m 3ms/step - accuracy: 0.9468 - loss: 0.1743 - val_accuracy: 0.9728 - val_loss: 0.0926\n",
      "Epoch 20/30\n",
      "\u001b[1m1371/1371\u001b[0m \u001b[32m━━━━━━━━━━━━━━━━━━━━\u001b[0m\u001b[37m\u001b[0m \u001b[1m5s\u001b[0m 3ms/step - accuracy: 0.9464 - loss: 0.1781 - val_accuracy: 0.9743 - val_loss: 0.0902\n",
      "Epoch 21/30\n",
      "\u001b[1m1371/1371\u001b[0m \u001b[32m━━━━━━━━━━━━━━━━━━━━\u001b[0m\u001b[37m\u001b[0m \u001b[1m5s\u001b[0m 3ms/step - accuracy: 0.9456 - loss: 0.1749 - val_accuracy: 0.9712 - val_loss: 0.1026\n",
      "Epoch 22/30\n",
      "\u001b[1m1371/1371\u001b[0m \u001b[32m━━━━━━━━━━━━━━━━━━━━\u001b[0m\u001b[37m\u001b[0m \u001b[1m5s\u001b[0m 3ms/step - accuracy: 0.9479 - loss: 0.1711 - val_accuracy: 0.9755 - val_loss: 0.0921\n",
      "Epoch 23/30\n",
      "\u001b[1m1371/1371\u001b[0m \u001b[32m━━━━━━━━━━━━━━━━━━━━\u001b[0m\u001b[37m\u001b[0m \u001b[1m5s\u001b[0m 3ms/step - accuracy: 0.9514 - loss: 0.1614 - val_accuracy: 0.9763 - val_loss: 0.0821\n",
      "Epoch 24/30\n",
      "\u001b[1m1371/1371\u001b[0m \u001b[32m━━━━━━━━━━━━━━━━━━━━\u001b[0m\u001b[37m\u001b[0m \u001b[1m5s\u001b[0m 3ms/step - accuracy: 0.9516 - loss: 0.1616 - val_accuracy: 0.9792 - val_loss: 0.0786\n",
      "Epoch 25/30\n",
      "\u001b[1m1371/1371\u001b[0m \u001b[32m━━━━━━━━━━━━━━━━━━━━\u001b[0m\u001b[37m\u001b[0m \u001b[1m5s\u001b[0m 3ms/step - accuracy: 0.9527 - loss: 0.1565 - val_accuracy: 0.9735 - val_loss: 0.0908\n",
      "Epoch 26/30\n",
      "\u001b[1m1371/1371\u001b[0m \u001b[32m━━━━━━━━━━━━━━━━━━━━\u001b[0m\u001b[37m\u001b[0m \u001b[1m5s\u001b[0m 3ms/step - accuracy: 0.9487 - loss: 0.1691 - val_accuracy: 0.9722 - val_loss: 0.0921\n",
      "Epoch 27/30\n",
      "\u001b[1m1371/1371\u001b[0m \u001b[32m━━━━━━━━━━━━━━━━━━━━\u001b[0m\u001b[37m\u001b[0m \u001b[1m5s\u001b[0m 3ms/step - accuracy: 0.9531 - loss: 0.1551 - val_accuracy: 0.9743 - val_loss: 0.0896\n",
      "Epoch 28/30\n",
      "\u001b[1m1371/1371\u001b[0m \u001b[32m━━━━━━━━━━━━━━━━━━━━\u001b[0m\u001b[37m\u001b[0m \u001b[1m5s\u001b[0m 3ms/step - accuracy: 0.9535 - loss: 0.1558 - val_accuracy: 0.9755 - val_loss: 0.0843\n",
      "Epoch 29/30\n",
      "\u001b[1m1371/1371\u001b[0m \u001b[32m━━━━━━━━━━━━━━━━━━━━\u001b[0m\u001b[37m\u001b[0m \u001b[1m5s\u001b[0m 3ms/step - accuracy: 0.9527 - loss: 0.1557 - val_accuracy: 0.9770 - val_loss: 0.0818\n",
      "Epoch 30/30\n",
      "\u001b[1m1371/1371\u001b[0m \u001b[32m━━━━━━━━━━━━━━━━━━━━\u001b[0m\u001b[37m\u001b[0m \u001b[1m5s\u001b[0m 3ms/step - accuracy: 0.9542 - loss: 0.1524 - val_accuracy: 0.9763 - val_loss: 0.0811\n",
      "\u001b[1m686/686\u001b[0m \u001b[32m━━━━━━━━━━━━━━━━━━━━\u001b[0m\u001b[37m\u001b[0m \u001b[1m1s\u001b[0m 2ms/step - accuracy: 0.9773 - loss: 0.0801\n",
      "Test Accuracy: 97.63%\n"
     ]
    }
   ],
   "source": [
    "model = Sequential([\n",
    "    Dense(256, activation='relu', input_shape=(X_train.shape[1],)),\n",
    "    Dropout(0.3),\n",
    "    Dense(128, activation='relu'),\n",
    "    Dropout(0.3),\n",
    "    Dense(128, activation='relu'),\n",
    "    Dropout(0.3),\n",
    "    Dense(64, activation='relu'),\n",
    "    Dense(28, activation='softmax')\n",
    "])\n",
    "\n",
    "model.compile(optimizer=Adam(learning_rate=0.001),\n",
    "              loss='categorical_crossentropy',\n",
    "              metrics=['accuracy'])\n",
    "\n",
    "# Train \n",
    "history = model.fit(\n",
    "    X_train, y_train_onehot,\n",
    "    validation_data=(X_test, y_test_onehot),\n",
    "    epochs=30,\n",
    "    batch_size=64,\n",
    "    verbose=1\n",
    ")\n",
    "\n",
    "# 8. Evaluate\n",
    "loss, accuracy = model.evaluate(X_test, y_test_onehot)\n",
    "print(f\"Test Accuracy: {accuracy*100:.2f}%\")\n"
   ]
  },
  {
   "cell_type": "code",
   "execution_count": 9,
   "id": "5f9c69eb",
   "metadata": {},
   "outputs": [
    {
     "data": {
      "image/png": "[encoded data removed]",
      "text/plain": [
       "<Figure size 640x480 with 1 Axes>"
      ]
     },
     "metadata": {},
     "output_type": "display_data"
    },
    {
     "data": {
      "image/png": "[encoded data removed]",
      "text/plain": [
       "<Figure size 640x480 with 1 Axes>"
      ]
     },
     "metadata": {},
     "output_type": "display_data"
    }
   ],
   "source": [
    "import matplotlib.pyplot as plt\n",
    "\n",
    "plt.plot(history.history['accuracy'], label='train acc')\n",
    "plt.plot(history.history['val_accuracy'], label='val acc')\n",
    "plt.title('Accuracy')\n",
    "plt.xlabel('Epoch')\n",
    "plt.ylabel('Accuracy')\n",
    "plt.legend()\n",
    "plt.grid()\n",
    "plt.show()\n",
    "\n",
    "plt.plot(history.history['loss'], label='train loss')\n",
    "plt.plot(history.history['val_loss'], label='val loss')\n",
    "plt.title('Loss')\n",
    "plt.xlabel('Epoch')\n",
    "plt.ylabel('Loss')\n",
    "plt.legend()\n",
    "plt.grid()\n",
    "plt.show()\n"
   ]
  },
  {
   "cell_type": "code",
   "execution_count": null,
   "id": "a584dce6",
   "metadata": {},
   "outputs": [],
   "source": [
    "from sklearn.metrics import accuracy_score, classification_report\n"
   ]
  },
  {
   "cell_type": "code",
   "execution_count": 11,
   "id": "36f35f62",
   "metadata": {},
   "outputs": [
    {
     "name": "stdout",
     "output_type": "stream",
     "text": [
      "\u001b[1m686/686\u001b[0m \u001b[32m━━━━━━━━━━━━━━━━━━━━\u001b[0m\u001b[37m\u001b[0m \u001b[1m1s\u001b[0m 1ms/step\n"
     ]
    }
   ],
   "source": [
    "from sklearn.metrics import classification_report\n",
    "import numpy as np\n",
    "\n",
    "# Get predicted probabilities (one-hot-like softmax output)\n",
    "y_pred_probs = model.predict(X_test)\n",
    "\n",
    "# Convert predictions and true labels from one-hot to class indices\n",
    "y_pred_labels = np.argmax(y_pred_probs, axis=1)\n",
    "y_true_labels = np.argmax(y_test_onehot, axis=1)\n"
   ]
  },
  {
   "cell_type": "code",
   "execution_count": 12,
   "id": "80b97687",
   "metadata": {},
   "outputs": [
    {
     "name": "stdout",
     "output_type": "stream",
     "text": [
      "              precision    recall  f1-score   support\n",
      "\n",
      "           A       0.97      0.99      0.98       800\n",
      "           B       1.00      1.00      1.00       800\n",
      "           C       0.98      0.98      0.98       800\n",
      "           D       1.00      0.95      0.98       800\n",
      "         DEL       0.97      1.00      0.98       708\n",
      "           E       0.99      0.98      0.99       800\n",
      "           F       0.99      0.99      0.99       800\n",
      "           G       0.98      1.00      0.99       800\n",
      "           H       0.98      0.99      0.99       800\n",
      "           I       0.98      0.98      0.98       800\n",
      "           J       0.99      0.99      0.99       800\n",
      "           K       0.98      0.99      0.99       800\n",
      "           L       1.00      0.99      1.00       800\n",
      "           M       0.90      0.86      0.88       735\n",
      "           N       0.86      0.88      0.87       602\n",
      "           O       0.96      0.98      0.97       800\n",
      "           P       0.99      0.99      0.99       800\n",
      "           Q       0.99      0.98      0.99       800\n",
      "           R       0.97      0.98      0.97       800\n",
      "           S       0.95      0.99      0.97       800\n",
      "       SPACE       0.97      0.98      0.98       684\n",
      "           T       0.98      0.98      0.98       800\n",
      "           U       0.96      0.96      0.96       800\n",
      "           V       0.99      0.95      0.97       800\n",
      "           W       0.99      0.98      0.99       800\n",
      "           X       0.97      0.98      0.98       800\n",
      "           Y       1.00      0.99      0.99       800\n",
      "           Z       1.00      0.99      0.99       800\n",
      "\n",
      "    accuracy                           0.98     21929\n",
      "   macro avg       0.98      0.98      0.98     21929\n",
      "weighted avg       0.98      0.98      0.98     21929\n",
      "\n"
     ]
    }
   ],
   "source": [
    "# Print classification report\n",
    "print(classification_report(\n",
    "    y_true_labels,\n",
    "    y_pred_labels,\n",
    "    labels=range(len(le.classes_)),  # 0 to 27\n",
    "    target_names=le.classes_       # ['A', ..., 'Z', 'SPACE', 'DEL']\n",
    "))\n"
   ]
  },
  {
   "cell_type": "code",
   "execution_count": null,
   "id": "4d5b2741",
   "metadata": {},
   "outputs": [
    {
     "data": {
      "text/plain": [
       "['label_encoder.pkl']"
      ]
     },
     "execution_count": 12,
     "metadata": {},
     "output_type": "execute_result"
    }
   ],
   "source": [
    "import joblib\n",
    "\n",
    "joblib.dump(le, \"label_encoder.pkl\")\n"
   ]
  },
  {
   "cell_type": "code",
   "execution_count": null,
   "id": "d1ae44da",
   "metadata": {},
   "outputs": [
    {
     "name": "stderr",
     "output_type": "stream",
     "text": [
      "WARNING:absl:You are saving your model as an HDF5 file via `model.save()` or `keras.saving.save_model(model)`. This file format is considered legacy. We recommend using instead the native Keras format, e.g. `model.save('my_model.keras')` or `keras.saving.save_model(model, 'my_model.keras')`. \n"
     ]
    }
   ],
   "source": [
    "# Save the Keras model (Recommended format)\n",
    "model.save(\"sign_model_static_mark2.h5\")"
   ]
  }
 ],
 "metadata": {
  "kernelspec": {
   "display_name": "Python 3",
   "language": "python",
   "name": "python3"
  },
  "language_info": {
   "codemirror_mode": {
    "name": "ipython",
    "version": 3
   },
   "file_extension": ".py",
   "mimetype": "text/x-python",
   "name": "python",
   "nbconvert_exporter": "python",
   "pygments_lexer": "ipython3",
   "version": "3.12.4"
  }
 },
 "nbformat": 4,
 "nbformat_minor": 5
}
